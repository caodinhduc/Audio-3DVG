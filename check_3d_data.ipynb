{
 "cells": [
  {
   "cell_type": "code",
   "execution_count": 15,
   "id": "d8c2f10b-56aa-4d4e-92cd-967530284e2d",
   "metadata": {},
   "outputs": [],
   "source": [
    "import numpy as np"
   ]
  },
  {
   "cell_type": "code",
   "execution_count": 16,
   "id": "f9c7faec-2455-4954-9cd5-11f1762420ab",
   "metadata": {},
   "outputs": [],
   "source": [
    "mesh_vertices = np.load('data/scannet/pointgroup_data/scene0568_00_aligned_vert.npy')"
   ]
  },
  {
   "cell_type": "code",
   "execution_count": 17,
   "id": "305d24cf-cc58-4e66-aa72-c236125aafac",
   "metadata": {},
   "outputs": [],
   "source": [
    "instance_labels = np.load('data/scannet/pointgroup_data/scene0568_00_ins_label_pg.npy')"
   ]
  },
  {
   "cell_type": "code",
   "execution_count": 18,
   "id": "a7156001-38ad-47e7-8dac-12413cdeb90e",
   "metadata": {},
   "outputs": [],
   "source": [
    "semantic_labels = np.load('data/scannet/pointgroup_data/scene0568_00_sem_label_pg.npy')"
   ]
  },
  {
   "cell_type": "code",
   "execution_count": 29,
   "id": "7b52cead-a671-4839-98b7-135acc493fdd",
   "metadata": {},
   "outputs": [],
   "source": [
    "# semantic_labels = np.load('data/scannet/pointgroup_data/scene0032_00_sem_label_pg.npy')\n",
    "instance_bboxes = np.load('data/scannet/pointgroup_data/scene0568_00_aligned_bbox.npy')"
   ]
  },
  {
   "cell_type": "code",
   "execution_count": 30,
   "id": "fcbb2818-b8f3-4d82-a823-10ac02425606",
   "metadata": {},
   "outputs": [],
   "source": [
    "_instance_bboxes = np.load('data/scannet/pointgroup_data/scene0568_00_bbox.npy')"
   ]
  },
  {
   "cell_type": "code",
   "execution_count": 31,
   "id": "d76e9e42-7a2b-4b7a-9db6-209000c39b02",
   "metadata": {},
   "outputs": [
    {
     "data": {
      "text/plain": [
       "array([2.35776114, 1.78411531, 0.22498837, 0.55324221, 0.49477351,\n",
       "       0.64744705, 5.        , 0.        ])"
      ]
     },
     "execution_count": 31,
     "metadata": {},
     "output_type": "execute_result"
    }
   ],
   "source": [
    "instance_bboxes[0]"
   ]
  },
  {
   "cell_type": "code",
   "execution_count": 32,
   "id": "c820f674-8c21-45c7-8cee-b81d46ee2387",
   "metadata": {},
   "outputs": [
    {
     "data": {
      "text/plain": [
       "array([0.51633686, 1.93914962, 1.03231835, 0.55899203, 0.49096203,\n",
       "       0.64744705, 5.        , 0.        ])"
      ]
     },
     "execution_count": 32,
     "metadata": {},
     "output_type": "execute_result"
    }
   ],
   "source": [
    "_instance_bboxes[0]"
   ]
  },
  {
   "cell_type": "code",
   "execution_count": 14,
   "id": "36d7e247-4a78-4a45-9094-807067540753",
   "metadata": {},
   "outputs": [],
   "source": [
    "import open3d as o3d\n",
    "\n",
    "# Create a sample point cloud (random points)\n",
    "points = mesh_vertices[:, 0:3]\n",
    "pcl_color = mesh_vertices[:, 3:6]/255.0\n",
    "pcd = o3d.geometry.PointCloud()\n",
    "pcd.points = o3d.utility.Vector3dVector(points)\n",
    "pcd.colors = o3d.utility.Vector3dVector(pcl_color)\n",
    "\n",
    "# Define multiple axis-aligned bounding boxes\n",
    "aabbs = []\n",
    "for box in instance_bboxes:\n",
    "    center = box[0:3].tolist()\n",
    "    size = box[3:6].tolist()\n",
    "    min_bound = np.array(center) - np.array(size) / 2\n",
    "    max_bound = np.array(center) + np.array(size) / 2\n",
    "    aabb = o3d.geometry.AxisAlignedBoundingBox(min_bound, max_bound)\n",
    "    aabb.color = (0, 1, 0)  # green\n",
    "    aabbs.append(aabb)\n",
    "\n",
    "# Visualize point cloud with bounding boxes\n",
    "o3d.visualization.draw_geometries([pcd] + aabbs)"
   ]
  },
  {
   "cell_type": "code",
   "execution_count": 33,
   "id": "7547b8e7-7b69-4ebb-b5ed-31df77f304e3",
   "metadata": {},
   "outputs": [],
   "source": [
    "import torch"
   ]
  },
  {
   "cell_type": "code",
   "execution_count": 34,
   "id": "e8cacaa2-bff1-45f0-8a17-d7c48a105935",
   "metadata": {},
   "outputs": [],
   "source": [
    "a = torch.zeros((4, 128))"
   ]
  },
  {
   "cell_type": "code",
   "execution_count": 35,
   "id": "e34adb42-86b3-458c-bb47-a32127bded67",
   "metadata": {},
   "outputs": [
    {
     "data": {
      "text/plain": [
       "tensor(0.)"
      ]
     },
     "execution_count": 35,
     "metadata": {},
     "output_type": "execute_result"
    }
   ],
   "source": [
    "torch.sum(a)"
   ]
  },
  {
   "cell_type": "code",
   "execution_count": null,
   "id": "c9329cdb-75e0-43e8-bd7d-6dbe85384929",
   "metadata": {},
   "outputs": [],
   "source": []
  }
 ],
 "metadata": {
  "kernelspec": {
   "display_name": "Python 3 (ipykernel)",
   "language": "python",
   "name": "python3"
  },
  "language_info": {
   "codemirror_mode": {
    "name": "ipython",
    "version": 3
   },
   "file_extension": ".py",
   "mimetype": "text/x-python",
   "name": "python",
   "nbconvert_exporter": "python",
   "pygments_lexer": "ipython3",
   "version": "3.8.20"
  }
 },
 "nbformat": 4,
 "nbformat_minor": 5
}
