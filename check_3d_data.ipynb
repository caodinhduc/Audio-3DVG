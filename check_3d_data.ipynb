{
 "cells": [
  {
   "cell_type": "code",
   "execution_count": 7,
   "id": "d8c2f10b-56aa-4d4e-92cd-967530284e2d",
   "metadata": {},
   "outputs": [],
   "source": [
    "import numpy as np"
   ]
  },
  {
   "cell_type": "code",
   "execution_count": 1,
   "id": "5c27866b-93ff-4790-8640-901d53929488",
   "metadata": {},
   "outputs": [],
   "source": [
    "meta_file = \"/home/duccd/Desktop/scannet_download/scans/scene0568_00/scene0568_00.txt\""
   ]
  },
  {
   "cell_type": "code",
   "execution_count": 2,
   "id": "ae43d3a3-2690-457a-b2ef-89b1af8e54f4",
   "metadata": {},
   "outputs": [],
   "source": [
    "lines = open(meta_file).readlines()"
   ]
  },
  {
   "cell_type": "code",
   "execution_count": 3,
   "id": "8d169116-7933-454e-8a0f-eb2a0273e1a6",
   "metadata": {},
   "outputs": [
    {
     "data": {
      "text/plain": [
       "['axisAlignment = -0.999657 0.026177 0.000000 2.822040 -0.026177 -0.999657 0.000000 3.740260 0.000000 0.000000 1.000000 -0.807330 0.000000 0.000000 0.000000 1.000000 \\n',\n",
       " 'colorHeight = 968\\n',\n",
       " 'colorToDepthExtrinsics = 0.999973 0.006791 0.002776 -0.037886 -0.006767 0.999942 -0.008366 -0.003410 -0.002833 0.008347 0.999961 -0.021924 -0.000000 0.000000 -0.000000 1.000000\\n',\n",
       " 'colorWidth = 1296\\n',\n",
       " 'depthHeight = 480\\n',\n",
       " 'depthWidth = 640\\n',\n",
       " 'fx_color = 1170.187988\\n',\n",
       " 'fx_depth = 571.623718\\n',\n",
       " 'fy_color = 1170.187988\\n',\n",
       " 'fy_depth = 571.623718\\n',\n",
       " 'mx_color = 647.750000\\n',\n",
       " 'mx_depth = 319.500000\\n',\n",
       " 'my_color = 483.750000\\n',\n",
       " 'my_depth = 239.500000\\n',\n",
       " 'numColorFrames = 1651\\n',\n",
       " 'numDepthFrames = 1651\\n',\n",
       " 'numIMUmeasurements = 3486\\n',\n",
       " 'sceneType = Living room / Lounge\\n']"
      ]
     },
     "execution_count": 3,
     "metadata": {},
     "output_type": "execute_result"
    }
   ],
   "source": [
    "lines"
   ]
  },
  {
   "cell_type": "code",
   "execution_count": 8,
   "id": "0945de67-d2a7-4af1-8fcc-988595ca340c",
   "metadata": {},
   "outputs": [],
   "source": [
    "for line in lines:\n",
    "    if 'axisAlignment' in line:\n",
    "        axis_align_matrix = [float(x) for x in line.rstrip().strip('axisAlignment = ').split(' ')]"
   ]
  },
  {
   "cell_type": "code",
   "execution_count": 11,
   "id": "2d07cc75-6be2-4176-8655-29d04aafadbd",
   "metadata": {},
   "outputs": [
    {
     "data": {
      "text/plain": [
       "array([[-0.999657,  0.026177,  0.      ,  2.82204 ],\n",
       "       [-0.026177, -0.999657,  0.      ,  3.74026 ],\n",
       "       [ 0.      ,  0.      ,  1.      , -0.80733 ],\n",
       "       [ 0.      ,  0.      ,  0.      ,  1.      ]])"
      ]
     },
     "execution_count": 11,
     "metadata": {},
     "output_type": "execute_result"
    }
   ],
   "source": [
    "np.array(axis_align_matrix).reshape((4, 4))"
   ]
  },
  {
   "cell_type": "code",
   "execution_count": 12,
   "id": "87aa12e0-cc16-4cc9-ad27-ca7bfc1b8d80",
   "metadata": {},
   "outputs": [],
   "source": [
    "def read_aggregation(filename):\n",
    "    object_id_to_segs = {}\n",
    "    label_to_segs = {}\n",
    "    with open(filename) as f:\n",
    "        data = json.load(f)\n",
    "        num_objects = len(data['segGroups'])\n",
    "        for i in range(num_objects):\n",
    "            object_id = data['segGroups'][i]['objectId'] + 1 # instance ids should be 1-indexed\n",
    "            label = data['segGroups'][i]['label']\n",
    "            segs = data['segGroups'][i]['segments']\n",
    "            object_id_to_segs[object_id] = segs\n",
    "            if label in label_to_segs:\n",
    "                label_to_segs[label].extend(segs)\n",
    "            else:\n",
    "                label_to_segs[label] = segs\n",
    "    return object_id_to_segs, label_to_segs"
   ]
  },
  {
   "cell_type": "code",
   "execution_count": 13,
   "id": "7dbf1ab7-6d22-4f7f-8546-96f4c6d69aca",
   "metadata": {},
   "outputs": [],
   "source": [
    "file = '/home/duccd/Desktop/InstanceRefer/data/scannet/scans/scene0011_00/scene0011_00.aggregation.json'"
   ]
  },
  {
   "cell_type": "code",
   "execution_count": 15,
   "id": "f05f3492-c488-4619-a4e4-a655e0209b6f",
   "metadata": {},
   "outputs": [],
   "source": [
    "import json"
   ]
  },
  {
   "cell_type": "code",
   "execution_count": 17,
   "id": "3aa38d91-3b00-44a7-be78-bd2553489604",
   "metadata": {
    "scrolled": true
   },
   "outputs": [],
   "source": [
    "a, b = read_aggregation(file)"
   ]
  },
  {
   "cell_type": "code",
   "execution_count": 20,
   "id": "16da9ed5-6887-4d27-9d21-e1d0958552c5",
   "metadata": {
    "scrolled": true
   },
   "outputs": [
    {
     "data": {
      "text/plain": [
       "16"
      ]
     },
     "execution_count": 20,
     "metadata": {},
     "output_type": "execute_result"
    }
   ],
   "source": [
    "len(b)"
   ]
  },
  {
   "cell_type": "code",
   "execution_count": 21,
   "id": "23333cd5-ffda-4297-b3cc-8a35d5dfc787",
   "metadata": {},
   "outputs": [
    {
     "data": {
      "text/plain": [
       "33"
      ]
     },
     "execution_count": 21,
     "metadata": {},
     "output_type": "execute_result"
    }
   ],
   "source": [
    "len(a)"
   ]
  },
  {
   "cell_type": "code",
   "execution_count": 4,
   "id": "f1c28e6b-cf25-4fa4-9090-977bc5e342d1",
   "metadata": {},
   "outputs": [],
   "source": [
    "file = '/home/duccd/Desktop/InstanceRefer/data/scannet/scans/scene0011_00/scene0011_00_vh_clean.segs.json'"
   ]
  },
  {
   "cell_type": "code",
   "execution_count": 8,
   "id": "6c5f1222-72e0-4991-b975-fb2f3939ffda",
   "metadata": {},
   "outputs": [],
   "source": [
    "import json"
   ]
  },
  {
   "cell_type": "code",
   "execution_count": 9,
   "id": "53ca256b-fe69-4fdd-8c80-4f07c89260d7",
   "metadata": {},
   "outputs": [],
   "source": [
    "def read_segmentation(filename):\n",
    "    seg_to_verts = {}\n",
    "    with open(filename) as f:\n",
    "        data = json.load(f)\n",
    "        num_verts = len(data['segIndices'])\n",
    "        for i in range(num_verts):\n",
    "            seg_id = data['segIndices'][i]\n",
    "            if seg_id in seg_to_verts:\n",
    "                seg_to_verts[seg_id].append(i)\n",
    "            else:\n",
    "                seg_to_verts[seg_id] = [i]\n",
    "    return seg_to_verts, num_verts"
   ]
  },
  {
   "cell_type": "code",
   "execution_count": 10,
   "id": "d51c875f-a8e6-4638-899f-c3f68c876b4a",
   "metadata": {},
   "outputs": [],
   "source": [
    "a, b = read_segmentation(file)"
   ]
  },
  {
   "cell_type": "code",
   "execution_count": 2,
   "id": "886fb838-23c4-4a66-b889-717996f6c379",
   "metadata": {},
   "outputs": [],
   "source": [
    "scannetv2_label = '/home/duccd/Desktop/InstanceRefer/data/scannet/meta_data/scannetv2-labels.combined.tsv'"
   ]
  },
  {
   "cell_type": "code",
   "execution_count": 3,
   "id": "43c2ea5e-0c77-4726-b149-a8a7818d6617",
   "metadata": {},
   "outputs": [],
   "source": [
    "lines = [line.rstrip() for line in open(scannetv2_label)]\n",
    "lines = lines[1:]\n",
    "nyu40ids2class = {}"
   ]
  },
  {
   "cell_type": "code",
   "execution_count": null,
   "id": "2e15cf0c-4ed7-4ece-9bc7-061ebd267cd1",
   "metadata": {},
   "outputs": [],
   "source": [
    "    def _get_nyu40id2class(self):\n",
    "        lines = [line.rstrip() for line in open(os.path.join(CONF.PATH.SCANNET, 'meta_data/scannetv2-labels.combined.tsv'))]\n",
    "        lines = lines[1:]\n",
    "        nyu40ids2class = {}\n",
    "        for i in range(len(lines)):\n",
    "            label_classes_set = set(self.type2class.keys())\n",
    "            elements = lines[i].split('\\t')\n",
    "            nyu40_id = int(elements[4])\n",
    "            nyu40_name = elements[7]\n",
    "            if nyu40_id in self.nyu40ids:\n",
    "                if nyu40_name not in label_classes_set:\n",
    "                    nyu40ids2class[nyu40_id] = self.type2class[\"others\"]\n",
    "                else:\n",
    "                    nyu40ids2class[nyu40_id] = self.type2class[nyu40_name]\n",
    "\n",
    "        return nyu40ids2class"
   ]
  }
 ],
 "metadata": {
  "kernelspec": {
   "display_name": "Python 3 (ipykernel)",
   "language": "python",
   "name": "python3"
  },
  "language_info": {
   "codemirror_mode": {
    "name": "ipython",
    "version": 3
   },
   "file_extension": ".py",
   "mimetype": "text/x-python",
   "name": "python",
   "nbconvert_exporter": "python",
   "pygments_lexer": "ipython3",
   "version": "3.8.20"
  }
 },
 "nbformat": 4,
 "nbformat_minor": 5
}
