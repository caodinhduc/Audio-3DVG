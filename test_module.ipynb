{
 "cells": [
  {
   "cell_type": "code",
   "execution_count": 2,
   "id": "b6d544eb-916e-446f-b75f-1adbeb90d8a1",
   "metadata": {},
   "outputs": [],
   "source": [
    "label2vect = {'cabinet':0, 'bed':1, 'chair':2, 'sofa':3, 'table':4, 'door':5,\n",
    "            'window':6,'bookshelf':7,'picture':8, 'counter':9, 'desk':10, 'curtain':11,\n",
    "            'refrigerator':12, 'shower curtain':13, 'toilet':14, 'sink':15, 'bathtub':16, 'others':17} "
   ]
  },
  {
   "cell_type": "code",
   "execution_count": 1,
   "id": "16b9c577-b84f-47f4-8350-7756b47949b4",
   "metadata": {},
   "outputs": [],
   "source": [
    "import torch"
   ]
  },
  {
   "cell_type": "code",
   "execution_count": 12,
   "id": "452a02fb-8f11-4a94-a084-3dd32aa03ac5",
   "metadata": {},
   "outputs": [],
   "source": [
    "audio = torch.ones(4, 16, 1024)"
   ]
  },
  {
   "cell_type": "code",
   "execution_count": 8,
   "id": "f2662ab8-2ea7-4c3d-86b0-a0fd3bb2e6ef",
   "metadata": {},
   "outputs": [
    {
     "data": {
      "text/plain": [
       "torch.Size([4, 16, 1024])"
      ]
     },
     "execution_count": 8,
     "metadata": {},
     "output_type": "execute_result"
    }
   ],
   "source": [
    "audio.repeat(1, 16, 1) .shape"
   ]
  },
  {
   "cell_type": "code",
   "execution_count": 9,
   "id": "47f87fdc-43b4-4cd8-9f26-5a1ca3daa2b7",
   "metadata": {},
   "outputs": [],
   "source": [
    "rep = torch.ones(4, 16, 1074)"
   ]
  },
  {
   "cell_type": "code",
   "execution_count": 25,
   "id": "7211b3e1-6a86-444a-9e2d-afc95fe3f431",
   "metadata": {},
   "outputs": [],
   "source": [
    "t = torch.cat((audio, rep), dim=2)"
   ]
  },
  {
   "cell_type": "code",
   "execution_count": 26,
   "id": "41862c92-91a0-48cb-b382-c16134e5fd67",
   "metadata": {},
   "outputs": [
    {
     "data": {
      "text/plain": [
       "torch.Size([4, 16, 2098])"
      ]
     },
     "execution_count": 26,
     "metadata": {},
     "output_type": "execute_result"
    }
   ],
   "source": [
    "t.shape"
   ]
  },
  {
   "cell_type": "code",
   "execution_count": 22,
   "id": "320dd245-1fca-4023-8686-c3b0e138a58e",
   "metadata": {},
   "outputs": [],
   "source": [
    "import torch.nn as nn"
   ]
  },
  {
   "cell_type": "code",
   "execution_count": 31,
   "id": "c7411cec-33a5-4f1a-9af1-f5c062daefea",
   "metadata": {},
   "outputs": [],
   "source": [
    "fc = nn.Sequential(nn.Linear(2098, 1024),\n",
    "                     nn.BatchNorm1d(16),\n",
    "                     nn.ReLU(),\n",
    "                     nn.Linear(1024, 128),\n",
    "                     # nn.BatchNorm1d(128),\n",
    "                     nn.ReLU(),\n",
    "                     nn.Linear(128, 1),\n",
    "                     )"
   ]
  },
  {
   "cell_type": "code",
   "execution_count": 32,
   "id": "3b7be409-4b84-4164-aeb3-2481e9f2aba1",
   "metadata": {},
   "outputs": [
    {
     "data": {
      "text/plain": [
       "torch.Size([4, 16, 1])"
      ]
     },
     "execution_count": 32,
     "metadata": {},
     "output_type": "execute_result"
    }
   ],
   "source": [
    "fc(t).shape"
   ]
  },
  {
   "cell_type": "code",
   "execution_count": null,
   "id": "3245aed4-c6c2-4c09-ad2c-4f0d932de91c",
   "metadata": {},
   "outputs": [],
   "source": []
  }
 ],
 "metadata": {
  "kernelspec": {
   "display_name": "Python 3 (ipykernel)",
   "language": "python",
   "name": "python3"
  },
  "language_info": {
   "codemirror_mode": {
    "name": "ipython",
    "version": 3
   },
   "file_extension": ".py",
   "mimetype": "text/x-python",
   "name": "python",
   "nbconvert_exporter": "python",
   "pygments_lexer": "ipython3",
   "version": "3.8.20"
  }
 },
 "nbformat": 4,
 "nbformat_minor": 5
}
