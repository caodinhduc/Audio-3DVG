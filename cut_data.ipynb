{
 "cells": [
  {
   "cell_type": "code",
   "execution_count": 1,
   "id": "0990d00a-b2b3-4d95-8474-1694d2f09cf3",
   "metadata": {},
   "outputs": [],
   "source": [
    "import pandas as pd"
   ]
  },
  {
   "cell_type": "code",
   "execution_count": 2,
   "id": "ba17668a-b341-4f2b-ab47-e74737869589",
   "metadata": {},
   "outputs": [],
   "source": [
    "import os"
   ]
  },
  {
   "cell_type": "code",
   "execution_count": 3,
   "id": "3b4557e3-c7fe-4419-a753-35179d8a2e67",
   "metadata": {},
   "outputs": [],
   "source": [
    "import json"
   ]
  },
  {
   "cell_type": "code",
   "execution_count": 5,
   "id": "bcc8098b-ce80-4a3b-baf7-ee220cbb390a",
   "metadata": {},
   "outputs": [],
   "source": [
    "source_train = 'data/ScanRefer_filtered_train_with_id.json'\n",
    "source_val = 'data/ScanRefer_filtered_val_with_id.json'"
   ]
  },
  {
   "cell_type": "code",
   "execution_count": 8,
   "id": "16df4011-8b42-43b2-87d9-0af1c674a1bb",
   "metadata": {},
   "outputs": [],
   "source": [
    "with open(source_train, 'r') as f:\n",
    "    data = json.load(f)\n",
    "with open(\"data/ScanRefer_filtered_train_with_id_1000.json\", \"w\") as file:\n",
    "\tjson.dump(data[:1000], file)"
   ]
  },
  {
   "cell_type": "code",
   "execution_count": 9,
   "id": "fa082e4f-c96c-4f98-b310-ac6be100991b",
   "metadata": {},
   "outputs": [],
   "source": [
    "with open(source_val, 'r') as f:\n",
    "    data = json.load(f)\n",
    "with open(\"data/ScanRefer_filtered_val_with_id_1000.json\", \"w\") as file:\n",
    "\tjson.dump(data[:200], file)"
   ]
  },
  {
   "cell_type": "code",
   "execution_count": null,
   "id": "4abe192b-7e4c-483f-a0ff-1dd84e13aeee",
   "metadata": {},
   "outputs": [],
   "source": []
  }
 ],
 "metadata": {
  "kernelspec": {
   "display_name": "Python 3 (ipykernel)",
   "language": "python",
   "name": "python3"
  },
  "language_info": {
   "codemirror_mode": {
    "name": "ipython",
    "version": 3
   },
   "file_extension": ".py",
   "mimetype": "text/x-python",
   "name": "python",
   "nbconvert_exporter": "python",
   "pygments_lexer": "ipython3",
   "version": "3.8.20"
  }
 },
 "nbformat": 4,
 "nbformat_minor": 5
}
