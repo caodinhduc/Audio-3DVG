{
 "cells": [
  {
   "cell_type": "code",
   "execution_count": 1,
   "id": "0a8af293-87fe-410d-b7b7-d55e30e8f421",
   "metadata": {},
   "outputs": [],
   "source": [
    "import json"
   ]
  },
  {
   "cell_type": "code",
   "execution_count": 23,
   "id": "07d1c5ef-7b87-41a0-a68c-e3f40d2a7b8b",
   "metadata": {},
   "outputs": [],
   "source": [
    "source_train = 'ScanRefer_filtered_train.json'\n",
    "source_val = 'ScanRefer_filtered_val.json'"
   ]
  },
  {
   "cell_type": "code",
   "execution_count": 24,
   "id": "c1d1a0a0-6e8a-4a0b-8f36-60fa92ac1260",
   "metadata": {},
   "outputs": [],
   "source": [
    "with open(source_train) as json_file:\n",
    "    json_train = json.load(json_file)"
   ]
  },
  {
   "cell_type": "code",
   "execution_count": 25,
   "id": "abc3eeda-68a6-4729-a3e3-61669fffe97a",
   "metadata": {},
   "outputs": [],
   "source": [
    "# removing the new line characters\n",
    "with open('ScanRefer_filtered_train.txt') as f:\n",
    "    lines_train = [line.rstrip() for line in f]\n"
   ]
  },
  {
   "cell_type": "code",
   "execution_count": 26,
   "id": "ae852b6a-0904-4be7-8cde-cec98b73cc6f",
   "metadata": {
    "scrolled": true
   },
   "outputs": [],
   "source": [
    "filter_train = []\n",
    "for i in json_train:\n",
    "    if i['scene_id'] in lines_train:\n",
    "        filter_train.append(i)"
   ]
  },
  {
   "cell_type": "code",
   "execution_count": 27,
   "id": "b14d21ff-c101-41ea-98c6-bb7e4ec89bc4",
   "metadata": {
    "scrolled": true
   },
   "outputs": [],
   "source": [
    "with open(\"processed_ScanRefer_filtered_train.json\", \"w\") as final:\n",
    "\tjson.dump(filter_train, final)"
   ]
  },
  {
   "cell_type": "code",
   "execution_count": 29,
   "id": "4c413fcf-e129-4991-9139-fdd57b8801db",
   "metadata": {},
   "outputs": [],
   "source": [
    "with open(source_val) as json_file:\n",
    "    json_val = json.load(json_file)"
   ]
  },
  {
   "cell_type": "code",
   "execution_count": 30,
   "id": "b781effb-d2af-4cdc-b321-7d51a32102b4",
   "metadata": {},
   "outputs": [],
   "source": [
    "with open('ScanRefer_filtered_val.txt') as f:\n",
    "    lines_val = [line.rstrip() for line in f]"
   ]
  },
  {
   "cell_type": "code",
   "execution_count": 31,
   "id": "3915d293-e0be-4553-a2e9-c6f71fde7171",
   "metadata": {},
   "outputs": [],
   "source": [
    "filter_val = []\n",
    "for i in json_val:\n",
    "    if i['scene_id'] in lines_val:\n",
    "        filter_val.append(i)"
   ]
  },
  {
   "cell_type": "code",
   "execution_count": 32,
   "id": "265df7b5-ac91-4507-b19e-70f26d72f1b6",
   "metadata": {
    "scrolled": true
   },
   "outputs": [],
   "source": [
    "with open(\"processed_ScanRefer_filtered_val.json\", \"w\") as final:\n",
    "\tjson.dump(filter_val, final)"
   ]
  },
  {
   "cell_type": "code",
   "execution_count": 33,
   "id": "abd0f95b-6731-411d-b2a4-94b30b85d124",
   "metadata": {},
   "outputs": [
    {
     "data": {
      "text/plain": [
       "284"
      ]
     },
     "execution_count": 33,
     "metadata": {},
     "output_type": "execute_result"
    }
   ],
   "source": [
    "len(filter_val)"
   ]
  },
  {
   "cell_type": "code",
   "execution_count": 28,
   "id": "2da320cd-a3ec-404e-b745-10dd13b01a34",
   "metadata": {},
   "outputs": [
    {
     "data": {
      "text/plain": [
       "36665"
      ]
     },
     "execution_count": 28,
     "metadata": {},
     "output_type": "execute_result"
    }
   ],
   "source": [
    "len(json_train)"
   ]
  },
  {
   "cell_type": "code",
   "execution_count": null,
   "id": "a24387ef-23bb-497c-b737-72e87c3ad971",
   "metadata": {},
   "outputs": [],
   "source": []
  }
 ],
 "metadata": {
  "kernelspec": {
   "display_name": "Python 3 (ipykernel)",
   "language": "python",
   "name": "python3"
  },
  "language_info": {
   "codemirror_mode": {
    "name": "ipython",
    "version": 3
   },
   "file_extension": ".py",
   "mimetype": "text/x-python",
   "name": "python",
   "nbconvert_exporter": "python",
   "pygments_lexer": "ipython3",
   "version": "3.8.20"
  }
 },
 "nbformat": 4,
 "nbformat_minor": 5
}
